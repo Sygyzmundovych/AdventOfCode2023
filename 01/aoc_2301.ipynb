{
 "cells": [
  {
   "cell_type": "code",
   "execution_count": 1,
   "id": "e90ad89f-c534-4469-86c6-47afdec303e7",
   "metadata": {},
   "outputs": [],
   "source": [
    "# Test\n",
    "file_name=\"./aoc_2301_test1.txt\"\n",
    "file_name=\"./aoc_2301_test2.txt\"\n",
    "# Prod\n",
    "file_name=\"./aoc_2301_prod.txt\""
   ]
  },
  {
   "cell_type": "code",
   "execution_count": 2,
   "id": "2eb75b2d-4a74-4cee-909c-920208bb85d6",
   "metadata": {},
   "outputs": [
    {
     "name": "stdout",
     "output_type": "stream",
     "text": [
      "['nkzjrdqrmpztpqninetwofour1znnkd', 's5sevenxrdfr4mhpstgbjcfqckronesix', '3four4', 'sfdrtpvspsixsn5zbqmggb8vgkjseight', '72666gxzflnsfqmndjdscvqmcqls5', 'hvqgbssr46four1cdcjxcdcp', 'zpjvvcbeightthree1bcnvjzbnqseven', 'jqbjxdkkveightrtktnsr92sevenmztdg', 'three3ninefive', 'twosevennnine6467', 'fjrzk9rfpqtbrc1bzfclczqxq', 'ninegkftwo29seven', 'eightone7threenl7mtxbmkpkzqzljrdk', 'twothree6vpnvvnshn', 'vvhtbjjrr6xghmzf']\n",
      "1000\n"
     ]
    }
   ],
   "source": [
    "with open(file_name) as f:\n",
    "    data=[i for i in f.read().splitlines()]\n",
    "    \n",
    "print(data[:15])\n",
    "print(len(data))"
   ]
  },
  {
   "cell_type": "markdown",
   "id": "72194f6d-32f5-4514-8e41-574d96744f21",
   "metadata": {},
   "source": [
    "## Part 1"
   ]
  },
  {
   "cell_type": "code",
   "execution_count": 3,
   "metadata": {},
   "outputs": [],
   "source": [
    "import re"
   ]
  },
  {
   "cell_type": "code",
   "execution_count": 4,
   "metadata": {},
   "outputs": [],
   "source": [
    "sum=0\n",
    "\n",
    "# Define the regex pattern to extract digits\n",
    "pattern = r'\\d'\n",
    "\n",
    "for row in data:\n",
    "    digits = re.findall(pattern, row)\n",
    "    calibration_value = int(digits[0] + digits[-1])\n",
    "    #print(f\"String: {row}, Extracted Digits: {digits}, Calibration value: {calibration_value}\")\n",
    "    sum += calibration_value\n"
   ]
  },
  {
   "cell_type": "code",
   "execution_count": 5,
   "id": "ed7a5b54-3bb9-4656-96c5-620f21b2debf",
   "metadata": {},
   "outputs": [],
   "source": [
    "result=sum"
   ]
  },
  {
   "cell_type": "code",
   "execution_count": 6,
   "id": "509c6a64-3c33-4a0a-8910-3eae8beb1189",
   "metadata": {},
   "outputs": [
    {
     "name": "stdout",
     "output_type": "stream",
     "text": [
      "Result for part 1: 56506\n"
     ]
    }
   ],
   "source": [
    "print(f\"Result for part 1: {result}\")"
   ]
  },
  {
   "cell_type": "markdown",
   "id": "956adb13-b794-49b5-9d2d-dad25fb36d23",
   "metadata": {},
   "source": [
    "## Part 2"
   ]
  },
  {
   "cell_type": "code",
   "execution_count": 7,
   "metadata": {},
   "outputs": [],
   "source": [
    "import re"
   ]
  },
  {
   "cell_type": "code",
   "execution_count": 8,
   "metadata": {},
   "outputs": [
    {
     "name": "stdout",
     "output_type": "stream",
     "text": [
      "{'1': '1', '2': '2', '3': '3', '4': '4', '5': '5', '6': '6', '7': '7', '8': '8', '9': '9'}\n"
     ]
    }
   ],
   "source": [
    "digits_dict={str(value): str(index + 1) for index, value in enumerate(range(1,10))}\n",
    "print(digits_dict)"
   ]
  },
  {
   "cell_type": "code",
   "execution_count": 9,
   "id": "6da02e55-aa7a-4053-b815-fac195092ecc",
   "metadata": {},
   "outputs": [
    {
     "name": "stdout",
     "output_type": "stream",
     "text": [
      "{'one': '1', 'two': '2', 'three': '3', 'four': '4', 'five': '5', 'six': '6', 'seven': '7', 'eight': '8', 'nine': '9'}\n"
     ]
    }
   ],
   "source": [
    "spelled_digits=\"one, two, three, four, five, six, seven, eight, nine\"\n",
    "spelled_digits=spelled_digits.split(sep=', ')\n",
    "spelled_digits_dict={value: str(index + 1) for index, value in enumerate(spelled_digits)}\n",
    "print(spelled_digits_dict)"
   ]
  },
  {
   "cell_type": "code",
   "execution_count": 10,
   "metadata": {},
   "outputs": [
    {
     "data": {
      "text/plain": [
       "'1|2|3|4|5|6|7|8|9|one|two|three|four|five|six|seven|eight|nine'"
      ]
     },
     "execution_count": 10,
     "metadata": {},
     "output_type": "execute_result"
    }
   ],
   "source": [
    "# Using dictionary unpacking to concatenate dict2 into dict1\n",
    "combined_digits={**digits_dict, **spelled_digits_dict}\n",
    "\n",
    "pattern_words = '|'.join(re.escape(d) for d in combined_digits)\n",
    "pattern_words"
   ]
  },
  {
   "cell_type": "code",
   "execution_count": 11,
   "metadata": {},
   "outputs": [],
   "source": [
    "\n",
    "sum=0\n",
    "\n",
    "for row in data:\n",
    "    words=re.findall(f\"(?=({pattern_words}))\", row)\n",
    "    if len(words)>0:\n",
    "        for w in (words[0], words[-1]) : \n",
    "            row=row.replace(w, combined_digits[w])\n",
    "        calibration_value = int(combined_digits[words[0]]+combined_digits[words[-1]])\n",
    "        #print(f\"String: {row}, Calibration value: {calibration_value}\")\n",
    "    else:\n",
    "        #print(f\"Unchanged: {row}\")\n",
    "        pass\n",
    "    \n",
    "    sum += calibration_value\n"
   ]
  },
  {
   "cell_type": "code",
   "execution_count": 12,
   "metadata": {},
   "outputs": [],
   "source": [
    "result=sum"
   ]
  },
  {
   "cell_type": "code",
   "execution_count": 13,
   "metadata": {},
   "outputs": [
    {
     "name": "stdout",
     "output_type": "stream",
     "text": [
      "Result for part 2: 56017\n"
     ]
    }
   ],
   "source": [
    "print(f\"Result for part 2: {result}\")"
   ]
  }
 ],
 "metadata": {
  "kernelspec": {
   "display_name": "sandbox",
   "language": "python",
   "name": "python3"
  },
  "language_info": {
   "codemirror_mode": {
    "name": "ipython",
    "version": 3
   },
   "file_extension": ".py",
   "mimetype": "text/x-python",
   "name": "python",
   "nbconvert_exporter": "python",
   "pygments_lexer": "ipython3",
   "version": "3.10.13"
  }
 },
 "nbformat": 4,
 "nbformat_minor": 5
}
